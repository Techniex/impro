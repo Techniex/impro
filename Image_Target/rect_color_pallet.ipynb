{
 "cells": [
  {
   "cell_type": "markdown",
   "metadata": {},
   "source": [
    "## Import"
   ]
  },
  {
   "cell_type": "code",
   "execution_count": 2,
   "metadata": {},
   "outputs": [],
   "source": [
    "from generate_color_target import *"
   ]
  },
  {
   "cell_type": "markdown",
   "metadata": {},
   "source": [
    "## User Input"
   ]
  },
  {
   "cell_type": "code",
   "execution_count": 3,
   "metadata": {},
   "outputs": [],
   "source": [
    "screen_resolution = [1366,768] #[number of pixels horizontal, number of pixels vertical]\n",
    "color_data = r\"./color_card/gray_balance.csv\" #Filename with path\n",
    "print_colorinfo = True #Binary"
   ]
  },
  {
   "cell_type": "markdown",
   "metadata": {},
   "source": [
    "## Validate input"
   ]
  },
  {
   "cell_type": "code",
   "execution_count": 4,
   "metadata": {},
   "outputs": [
    {
     "output_type": "stream",
     "name": "stdout",
     "text": "Info: Valid color file.\n"
    }
   ],
   "source": [
    "error = generate_rectangle_color_target(screen_resolution, color_data, print_colorinfo)"
   ]
  },
  {
   "cell_type": "code",
   "execution_count": 5,
   "metadata": {},
   "outputs": [
    {
     "output_type": "stream",
     "name": "stdout",
     "text": "Info: Valid color file.\nInfo: Valid color file.\nInfo: Valid color file.\nInfo: Valid color file.\nInfo: Valid color file.\nInfo: Valid color file.\nInfo: Valid color file.\nInfo: Valid color file.\nInfo: Valid color file.\nInfo: Valid color file.\nInfo: Valid color file.\nInfo: Valid color file.\nInfo: Valid color file.\nInfo: Valid color file.\nInfo: Valid color file.\nInfo: Valid color file.\nInfo: Valid color file.\nInfo: Valid color file.\nInfo: Valid color file.\nInfo: Valid color file.\nInfo: Valid color file.\nInfo: Valid color file.\nInfo: Valid color file.\nInfo: Valid color file.\nInfo: Valid color file.\nInfo: Valid color file.\nInfo: Valid color file.\nInfo: Valid color file.\nInfo: Valid color file.\nInfo: Valid color file.\nInfo: Valid color file.\nInfo: Valid color file.\nInfo: Valid color file.\nInfo: Valid color file.\nInfo: Valid color file.\nInfo: Valid color file.\nInfo: Valid color file.\nInfo: Valid color file.\nInfo: Valid color file.\nInfo: Valid color file.\nInfo: Valid color file.\nInfo: Valid color file.\nInfo: Valid color file.\nInfo: Valid color file.\nInfo: Valid color file.\nInfo: Valid color file.\nInfo: Valid color file.\nInfo: Valid color file.\nInfo: Valid color file.\nInfo: Valid color file.\nInfo: Valid color file.\nInfo: Valid color file.\nInfo: Valid color file.\nInfo: Valid color file.\nInfo: Valid color file.\nInfo: Valid color file.\nInfo: Valid color file.\nInfo: Valid color file.\nInfo: Valid color file.\nInfo: Valid color file.\nInfo: Valid color file.\nInfo: Valid color file.\nInfo: Valid color file.\nInfo: Valid color file.\nInfo: Valid color file.\nInfo: Valid color file.\nInfo: Valid color file.\nInfo: Valid color file.\nInfo: Valid color file.\nInfo: Valid color file.\nInfo: Valid color file.\nInfo: Valid color file.\nInfo: Valid color file.\nInfo: Valid color file.\nInfo: Valid color file.\nInfo: Valid color file.\nInfo: Valid color file.\nInfo: Valid color file.\nInfo: Valid color file.\nInfo: Valid color file.\nInfo: Valid color file.\nInfo: Valid color file.\nInfo: Valid color file.\nInfo: Valid color file.\nInfo: Valid color file.\nInfo: Valid color file.\nInfo: Valid color file.\nInfo: Valid color file.\nInfo: Valid color file.\nInfo: Valid color file.\nInfo: Valid color file.\nInfo: Valid color file.\nInfo: Valid color file.\nInfo: Valid color file.\nInfo: Valid color file.\nInfo: Valid color file.\n"
    }
   ],
   "source": [
    "import os\n",
    "files = [os.path.join(r\"./color_card\", file) for file in os.listdir(r\"./color_card\") if '.csv' in file]\n",
    "cinfo = [True, False]\n",
    "screen = [[1366, 768], [1920, 1080], [1920, 1200], [2560, 1440], [3840,2160], [7680, 4320]]\n",
    "for scr in screen:\n",
    "    for filec in files:\n",
    "        for cinf in cinfo:\n",
    "            error = generate_rectangle_color_target(scr, filec, cinf)"
   ]
  },
  {
   "cell_type": "code",
   "execution_count": null,
   "metadata": {},
   "outputs": [],
   "source": []
  }
 ],
 "metadata": {
  "kernelspec": {
   "display_name": "Python 3",
   "language": "python",
   "name": "python3"
  },
  "language_info": {
   "codemirror_mode": {
    "name": "ipython",
    "version": 3
   },
   "file_extension": ".py",
   "mimetype": "text/x-python",
   "name": "python",
   "nbconvert_exporter": "python",
   "pygments_lexer": "ipython3",
   "version": "3.7.7-final"
  }
 },
 "nbformat": 4,
 "nbformat_minor": 4
}